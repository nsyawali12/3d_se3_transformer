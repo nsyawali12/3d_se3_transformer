{
 "cells": [
  {
   "cell_type": "code",
   "execution_count": 1,
   "id": "import-libraries",
   "metadata": {},
   "outputs": [],
   "source": [
    "import os\n",
    "import numpy as np\n",
    "import h5py\n",
    "import torch\n",
    "from torch.utils.data import Dataset, DataLoader\n",
    "from sklearn.preprocessing import LabelEncoder\n",
    "import torch.nn as nn\n",
    "import torch.optim as optim\n",
    "from se3_transformer_pytorch import SE3Transformer"
   ]
  },
  {
   "cell_type": "markdown",
   "metadata": {},
   "source": [
    "# Custom HDF5 Dataset Class"
   ]
  },
  {
   "cell_type": "code",
   "execution_count": 2,
   "id": "custom-dataset",
   "metadata": {},
   "outputs": [],
   "source": [
    "class HDF5Dataset(Dataset):\n",
    "    def __init__(self, h5_file, transform=None):\n",
    "        self.h5_file = h5_file\n",
    "        self.transform = transform\n",
    "        with h5py.File(self.h5_file, 'r') as f:\n",
    "            self.coords = f['coords'][:]\n",
    "            self.features = f['features'][:]\n",
    "            self.labels = f['labels'][:]\n",
    "\n",
    "    def __len__(self):\n",
    "        return len(self.labels)\n",
    "\n",
    "    def __getitem__(self, idx):\n",
    "        coords = self.coords[idx]\n",
    "        features = self.features[idx]\n",
    "        label = self.labels[idx]\n",
    "        if self.transform:\n",
    "            coords, features = self.transform(coords, features)\n",
    "        return torch.tensor(coords, dtype=torch.float32), torch.tensor(features, dtype=torch.float32), torch.tensor(label, dtype=torch.long)"
   ]
  },
  {
   "cell_type": "markdown",
   "metadata": {},
   "source": [
    "# Example Transform Function"
   ]
  },
  {
   "cell_type": "code",
   "execution_count": 3,
   "id": "transform-function",
   "metadata": {},
   "outputs": [],
   "source": [
    "def preprocess_data(coords, features):\n",
    "    # Ensure standard deviation is not zero to avoid division by zero\n",
    "    if np.std(features) != 0:\n",
    "        features = (features - np.mean(features)) / np.std(features)\n",
    "    else:\n",
    "        features = features - np.mean(features)\n",
    "    \n",
    "    # Normalize coordinates\n",
    "    coords = coords - coords.min(axis=0)  # Shift coordinates to start from 0\n",
    "    coords = coords / coords.max(axis=0)  # Normalize to range [0, 1]\n",
    "    coords = (coords * 100).astype(np.int64)  # Scale to a larger range for embedding\n",
    "    \n",
    "    return coords, features"
   ]
  },
  {
   "cell_type": "markdown",
   "metadata": {},
   "source": [
    "# Model Definition"
   ]
  },
  {
   "cell_type": "code",
   "execution_count": 4,
   "id": "model-definition",
   "metadata": {},
   "outputs": [],
   "source": [
    "class Image3DClassifier(nn.Module):\n",
    "    def __init__(self, num_classes):\n",
    "        super(Image3DClassifier, self).__init__()\n",
    "        self.se3_transformer = SE3Transformer(\n",
    "            num_tokens=100,  # Adjust num_tokens to match the scaled coordinate range\n",
    "            dim=64,  # Changed from 128 to 64\n",
    "            depth=6,\n",
    "            heads=8,\n",
    "            dim_head=64,\n",
    "            num_degrees=4,\n",
    "            input_degrees=1,  # Assuming input has one degree (scalar features)\n",
    "            output_degrees=1  # Assuming output has one degree (scalar features)\n",
    "        )\n",
    "        self.classifier = nn.Linear(64, num_classes)  # Changed from 128 to 64\n",
    "\n",
    "    def forward(self, x):\n",
    "        coords, features = x\n",
    "        coords = coords.long()  # Convert to LongTensor\n",
    "        print(\"Coordinates min:\", coords.min().item(), \"max:\", coords.max().item())  # Debugging statement\n",
    "        x = self.se3_transformer(coords, features)\n",
    "        x = x.mean(dim=1)  # Global average pooling\n",
    "        x = self.classifier(x)\n",
    "        return x\n",
    "\n",
    "model = Image3DClassifier(num_classes=3)  # Example for a dataset with 3 classes"
   ]
  },
  {
   "cell_type": "markdown",
   "metadata": {},
   "source": [
    "# Training Script"
   ]
  },
  {
   "cell_type": "code",
   "execution_count": 5,
   "id": "training-script",
   "metadata": {},
   "outputs": [
    {
     "name": "stdout",
     "output_type": "stream",
     "text": [
      "Coordinates min: 0 max: 100\n",
      "Coordinates min: 0 max: 100\n"
     ]
    },
    {
     "ename": "IndexError",
     "evalue": "index out of range in self",
     "output_type": "error",
     "traceback": [
      "\u001b[1;31m---------------------------------------------------------------------------\u001b[0m",
      "\u001b[1;31mIndexError\u001b[0m                                Traceback (most recent call last)",
      "Cell \u001b[1;32mIn[5], line 20\u001b[0m\n\u001b[0;32m     18\u001b[0m coords \u001b[38;5;241m=\u001b[39m coords\u001b[38;5;241m.\u001b[39mlong()  \u001b[38;5;66;03m# Convert to LongTensor\u001[...]
      "File \u001b[1;32mc:\\Users\\user\\.conda\\envs\\lucidSE3_gpu\\lib\\site-packages\\torch\\nn\\modules\\module.py:1736\u001b[0m, in \u001b[0;36mModule._wrapped_call_impl\u001b[1;34m(self, *args, [...]
      "File \u001b[1;32mc:\\Users\\user\\.conda\\envs\\lucidSE3_gpu\\lib\\site-packages\\torch\\nn\\modules\\module.py:1747\u001b[0m, in \u001b[0;36mModule._call_impl\u001b[1;34m(self, *args, **kwargs[...]
      "Cell \u001b[1;32mIn[4], line 20\u001b[0m, in \u001b[0;36mImage3DClassifier.forward\u001b[1;34m(self, x)\u001b[0m\n\u001b[0;32m     18\u001b[0m coords \u001b[38;5;241m=\u001b[39m coords\u001b[38[...]
      "File \u001b[1;32mc:\\Users\\user\\.conda\\envs\\lucidSE3_gpu\\lib\\site-packages\\torch\\nn\\modules\\module.py:1736\u001b[0m, in \u001b[0;36mModule._wrapped_call_impl\u001b[1;34m(self, *args, [...]
      "File \u001b[1;32mc:\\Users\\user\\.conda\\envs\\lucidSE3_gpu\\lib\\site-packages\\torch\\nn\\modules\\module.py:1747\u001b[0m, in \u001b[0;36mModule._call_impl\u001b[1;34m(self, *args, **kwargs[...]
      "File \u001b[1;32mc:\\Users\\user\\.conda\\envs\\lucidSE3_gpu\\lib\\site-packages\\se3_transformer_pytorch\\se3_transformer_pytorch.py:1144\u001b[0m, in \u001b[0;36mSE3Transformer.forward\u001b[[...]
      "File \u001b[1;32mc:\\Users\\user\\.conda\\envs\\lucidSE3_gpu\\lib\\site-packages\\torch\\nn\\modules\\module.py:1736\u001b[0m, in \u001b[0;36mModule._wrapped_call_impl\u001b[1;34m(self, *args, [...]
      "File \u001b[1;32mc:\\Users\\user\\.conda\\envs\\lucidSE3_gpu\\lib\\site-packages\\torch\\nn\\modules\\module.py:1747\u001b[0m, in \u001b[0;36mModule._call_impl\u001b[1;34m(self, *args, **kwargs[...]
      "File \u001b[1;32mc:\\Users\\user\\.conda\\envs\\lucidSE3_gpu\\lib\\site-packages\\torch\\nn\\modules\\sparse.py:190\u001b[0m, in \u001b[0;36mEmbedding.forward\u001b[1;34m(self, input)\u001b[0m\[...]
      "File \u001b[1;32mc:\\Users\\user\\.conda\\envs\\lucidSE3_gpu\\lib\\site-packages\\torch\\nn\\functional.py:2551\u001b[0m, in \u001b[0;36membedding\u001b[1;34m(input, weight, padding_idx, max_no[...]
      "\u001b[1;31mIndexError\u001b[0m: index out of range in self"
     ]
    }
   ],
   "source": [
    "# Set up data directory path and HDF5 file\n",
    "h5_file = 'prepared_dataset_1024.h5'  # Path to your HDF5 dataset\n",
    "\n",
    "# Create dataset and dataloader\n",
    "train_dataset = HDF5Dataset(h5_file, transform=preprocess_data)\n",
    "train_loader = DataLoader(train_dataset, batch_size=4, shuffle=True)\n",
    "\n",
    "# Model, loss function, optimizer\n",
    "model = Image3DClassifier(num_classes=3)\n",
    "criterion = nn.CrossEntropyLoss()\n",
    "optimizer = optim.Adam(model.parameters(), lr=0.001)\n",
    "\n",
    "# Training loop\n",
    "for epoch in range(10):  # Number of epochs\n",
    "    for i, (coords, features, labels) in enumerate(train_loader):\n",
    "        optimizer.zero_grad()\n",
    "        coords = coords.long()  # Convert to LongTensor\n",
    "        print(\"Coordinates min:\", coords.min().item(), \"max:\", coords.max().item())  # Debugging statement\n",
    "        outputs = model((coords, features))\n",
    "        loss = criterion(outputs, labels)\n",
    "        loss.backward()\n",
    "        optimizer.step()\n",
    "\n",
    "        if (i + 1) % 100 == 0:\n",
    "            print(f'Epoch [{epoch + 1}/10], Step [{i + 1}/{len(train_loader)}], Loss: {loss.item():.4f}')\n",
    "\n",
    "# Save the model\n",
    "torch.save(model.state_dict(), 'model.pth')"
   ]
  },
  {
   "cell_type": "markdown",
   "metadata": {},
   "source": [
    "# Evaluation Script"
   ]
  },
  {
   "cell_type": "code",
   "execution_count": null,
   "id": "evaluation-script",
   "metadata": {},
   "outputs": [],
   "source": [
    "# Create dataset and dataloader\n",
    "test_dataset = HDF5Dataset(h5_file, transform=preprocess_data)\n",
    "test_loader = DataLoader(test_dataset, batch_size=4, shuffle=False)\n",
    "\n",
    "# Model\n",
    "model = Image3DClassifier(num_classes=3)\n",
    "model.load_state_dict(torch.load('model.pth'))  # Load trained model\n",
    "\n",
    "# Evaluation\n",
    "model.eval()\n",
    "correct = 0\n",
    "total = 0\n",
    "with torch.no_grad():\n",
    "    for coords, features, labels in test_loader:\n",
    "        coords = coords.long()  # Convert to LongTensor\n",
    "        print(\"Coordinates min:\", coords.min().item(), \"max:\", coords.max().item())  # Debugging statement\n",
    "        outputs = model((coords, features))\n",
    "        _, predicted = torch.max(outputs.data, 1)\n",
    "        total += labels.size(0)\n",
    "        correct += (predicted == labels).sum().item()\n",
    "\n",
    "print(f'Accuracy: {100 * correct / total:.2f}%')"
   ]
  }
 ],
 "metadata": {
  "kernelspec": {
   "display_name": "Python 3",
   "language": "python",
   "name": "python3"
  },
  "language_info": {
   "codemirror_mode": {
    "name": "ipython",
    "version": 3
   },
   "file_extension": ".py",
   "mimetype": "text/x-python",
   "name": "python",
   "nbconvert_exporter": "python",
   "pygments_lexer": "ipython3",
   "version": "3.10.16"
  }
 },
 "nbformat": 4,
 "nbformat_minor": 5
}
