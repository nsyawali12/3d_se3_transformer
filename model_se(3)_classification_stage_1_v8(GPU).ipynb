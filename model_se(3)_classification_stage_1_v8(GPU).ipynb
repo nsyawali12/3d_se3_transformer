{
  "cells": [
    {
      "cell_type": "code",
      "execution_count": 1,
      "metadata": {
        "colab": {
          "base_uri": "https://localhost:8080/"
        },
        "id": "zmOcxmyoCRzB",
        "outputId": "e89d1891-9ecf-4ca0-c6ea-09c9288425c7"
      },
      "outputs": [],
      "source": [
        "# !pip install se3-transformer-pytorch\n",
        "# !pip install h5py"
      ]
    },
    {
      "cell_type": "code",
      "execution_count": 2,
      "metadata": {
        "colab": {
          "base_uri": "https://localhost:8080/"
        },
        "id": "0XGVY5WbEtD9",
        "outputId": "1dea8bac-221a-4897-af80-f99fe7f172f0"
      },
      "outputs": [],
      "source": [
        "import os\n",
        "import numpy as np\n",
        "import h5py\n",
        "import torch\n",
        "from se3_transformer_pytorch import SE3Transformer\n",
        "from tqdm import tqdm"
      ]
    },
    {
      "cell_type": "code",
      "execution_count": 3,
      "metadata": {},
      "outputs": [],
      "source": [
        "def load_hdf5_data(file_path):\n",
        "    with h5py.File(file_path, 'r') as h5f:\n",
        "        coords = h5f['coords'][:]\n",
        "        features = h5f['features'][:]\n",
        "        labels = h5f['labels'][:]\n",
        "    return coords, features, labels\n",
        "\n",
        "# Load training and test datasets\n",
        "train_file_path = 'prepared_dataset_1024.h5'  # Update with your training dataset path\n",
        "test_file_path = 'datatest_1024.h5' # Update with your test dataset path\n",
        "\n",
        "train_coords, train_features, train_labels = load_hdf5_data(train_file_path)\n",
        "test_coords, test_features, test_labels = load_hdf5_data(test_file_path)"
      ]
    },
    {
      "cell_type": "code",
      "execution_count": null,
      "metadata": {
        "colab": {
          "base_uri": "https://localhost:8080/"
        },
        "id": "pkqignlACjal",
        "outputId": "ef5fe719-d836-4bd3-c3d2-ce0e455f6f31"
      },
      "outputs": [
        {
          "ename": "TypeError",
          "evalue": "SE3Transformer.__init__() got an unexpected keyword argument 'neighbors'",
          "output_type": "error",
          "traceback": [
            "\u001b[1;31m---------------------------------------------------------------------------\u001b[0m",
            "\u001b[1;31mTypeError\u001b[0m                                 Traceback (most recent call last)",
            "Cell \u001b[1;32mIn[25], line 5\u001b[0m\n\u001b[0;32m      1\u001b[0m \u001b[38;5;66;03m# Define the SE3 Transformer model\u001b[39;00m\n\u001b[0;32m      3\u001b[0m feature_dim \u001b[38;5;241m=\u001b[39m train_features\u001b[38;5;241m.\u001b[39mshape[\u001b[38;5;241m-\u001b[39m\u001b[38;5;241m1\u001b[39m]  \u001b[38;5;66;03m# Assuming train_features is a numpy array\u001b[39;00m\n\u001b[1;32m----> 5\u001b[0m model \u001b[38;5;241m=\u001b[39m \u001b[43mSE3Transformer\u001b[49m\u001b[43m(\u001b[49m\n\u001b[0;32m      6\u001b[0m \u001b[43m    \u001b[49m\u001b[43mdim\u001b[49m\u001b[38;5;241;43m=\u001b[39;49m\u001b[43mfeature_dim\u001b[49m\u001b[43m,\u001b[49m\n\u001b[0;32m      7\u001b[0m \u001b[43m    \u001b[49m\u001b[43mheads\u001b[49m\u001b[38;5;241;43m=\u001b[39;49m\u001b[38;5;241;43m8\u001b[39;49m\u001b[43m,\u001b[49m\n\u001b[0;32m      8\u001b[0m \u001b[43m    \u001b[49m\u001b[43mdepth\u001b[49m\u001b[38;5;241;43m=\u001b[39;49m\u001b[38;5;241;43m6\u001b[39;49m\u001b[43m,\u001b[49m\n\u001b[0;32m      9\u001b[0m \u001b[43m    \u001b[49m\u001b[43mdim_head\u001b[49m\u001b[38;5;241;43m=\u001b[39;49m\u001b[38;5;241;43m64\u001b[39;49m\u001b[43m,\u001b[49m\n\u001b[0;32m     10\u001b[0m \u001b[43m    \u001b[49m\u001b[43mnum_degrees\u001b[49m\u001b[38;5;241;43m=\u001b[39;49m\u001b[38;5;241;43m4\u001b[39;49m\u001b[43m,\u001b[49m\n\u001b[0;32m     11\u001b[0m \u001b[43m    \u001b[49m\u001b[43mneighbors\u001b[49m\u001b[38;5;241;43m=\u001b[39;49m\u001b[38;5;241;43m16\u001b[39;49m\u001b[43m  \u001b[49m\u001b[38;5;66;43;03m# Set the number of neighbors\u001b[39;49;00m\n\u001b[0;32m     12\u001b[0m \u001b[43m)\u001b[49m\n\u001b[0;32m     14\u001b[0m \u001b[38;5;66;03m# Move model to GPU if available\u001b[39;00m\n\u001b[0;32m     15\u001b[0m device \u001b[38;5;241m=\u001b[39m torch\u001b[38;5;241m.\u001b[39mdevice(\u001b[38;5;124m'\u001b[39m\u001b[38;5;124mcuda\u001b[39m\u001b[38;5;124m'\u001b[39m \u001b[38;5;28;01mif\u001b[39;00m torch\u001b[38;5;241m.\u001b[39mcuda\u001b[38;5;241m.\u001b[39mis_available() \u001b[38;5;28;01melse\u001b[39;00m \u001b[38;5;124m'\u001b[39m\u001b[38;5;124mcpu\u001b[39m\u001b[38;5;124m'\u001b[39m)\n",
            "\u001b[1;31mTypeError\u001b[0m: SE3Transformer.__init__() got an unexpected keyword argument 'neighbors'"
          ]
        }
      ],
      "source": [
        "# Define the SE3 Transformer model\n",
        "\n",
        "feature_dim = train_features.shape[-1]  # Assuming train_features is a numpy array\n",
        "\n",
        "model = SE3Transformer(\n",
        "    dim=feature_dim,\n",
        "    heads=8,\n",
        "    depth=6,\n",
        "    dim_head=64,\n",
        "    num_degrees=4,\n",
        ")\n",
        "\n",
        "# Move model to GPU if available\n",
        "device = torch.device('cuda' if torch.cuda.is_available() else 'cpu')\n",
        "model.to(device)"
      ]
    },
    {
      "cell_type": "code",
      "execution_count": 5,
      "metadata": {
        "id": "YrptWwzRE532"
      },
      "outputs": [],
      "source": [
        "# Define training parameters\n",
        "num_epochs = 100\n",
        "learning_rate = 1e-4\n",
        "batch_size = 1  # Adjust based on your GPU memory\n",
        "\n",
        "# Define loss function and optimizer\n",
        "criterion = torch.nn.CrossEntropyLoss()\n",
        "optimizer = torch.optim.Adam(model.parameters(), lr=learning_rate)"
      ]
    },
    {
      "cell_type": "code",
      "execution_count": null,
      "metadata": {
        "colab": {
          "base_uri": "https://localhost:8080/",
          "height": 391
        },
        "id": "ZfrhDp2qE65E",
        "outputId": "125e9dbd-9e40-40ee-d5a7-75f74f9f95bf"
      },
      "outputs": [
        {
          "name": "stderr",
          "output_type": "stream",
          "text": [
            "  0%|          | 0/153600 [00:00<?, ?it/s]\n"
          ]
        },
        {
          "ename": "AssertionError",
          "evalue": "you must be fetching at least 1 neighbor",
          "output_type": "error",
          "traceback": [
            "\u001b[1;31m---------------------------------------------------------------------------\u001b[0m",
            "\u001b[1;31mAssertionError\u001b[0m                            Traceback (most recent call last)",
            "Cell \u001b[1;32mIn[24], line 17\u001b[0m\n\u001b[0;32m     14\u001b[0m     coors \u001b[38;5;241m=\u001b[39m coors\u001b[38;5;241m.\u001b[39munsqueeze(\u001b[38;5;241m0\u001b[39m)  \u001b[38;5;66;03m# Shape: (1, num_points, 3)\u001b[39;00m\n\u001b[0;32m     16\u001b[0m \u001b[38;5;66;03m# Forward pass\u001b[39;00m\n\u001b[1;32m---> 17\u001b[0m outputs \u001b[38;5;241m=\u001b[39m \u001b[43mmodel\u001b[49m\u001b[43m(\u001b[49m\u001b[43mfeats\u001b[49m\u001b[43m,\u001b[49m\u001b[43m \u001b[49m\u001b[43mcoors\u001b[49m\u001b[43m,\u001b[49m\u001b[43m \u001b[49m\u001b[43mmask\u001b[49m\u001b[43m)\u001b[49m  \u001b[38;5;66;03m# Shape: (1, num_points, feature_dim)\u001b[39;00m\n\u001b[0;32m     19\u001b[0m \u001b[38;5;66;03m# Calculate loss\u001b[39;00m\n\u001b[0;32m     20\u001b[0m label \u001b[38;5;241m=\u001b[39m torch\u001b[38;5;241m.\u001b[39mtensor(train_labels[i])\u001b[38;5;241m.\u001b[39munsqueeze(\u001b[38;5;241m0\u001b[39m)\u001b[38;5;241m.\u001b[39mto(device)  \u001b[38;5;66;03m# Shape: (1,)\u001b[39;00m\n",
            "File \u001b[1;32mc:\\Users\\user\\.conda\\envs\\lucidSE3_gpu\\lib\\site-packages\\torch\\nn\\modules\\module.py:1736\u001b[0m, in \u001b[0;36mModule._wrapped_call_impl\u001b[1;34m(self, *args, **kwargs)\u001b[0m\n\u001b[0;32m   1734\u001b[0m     \u001b[38;5;28;01mreturn\u001b[39;00m \u001b[38;5;28mself\u001b[39m\u001b[38;5;241m.\u001b[39m_compiled_call_impl(\u001b[38;5;241m*\u001b[39margs, \u001b[38;5;241m*\u001b[39m\u001b[38;5;241m*\u001b[39mkwargs)  \u001b[38;5;66;03m# type: ignore[misc]\u001b[39;00m\n\u001b[0;32m   1735\u001b[0m \u001b[38;5;28;01melse\u001b[39;00m:\n\u001b[1;32m-> 1736\u001b[0m     \u001b[38;5;28;01mreturn\u001b[39;00m \u001b[38;5;28mself\u001b[39m\u001b[38;5;241m.\u001b[39m_call_impl(\u001b[38;5;241m*\u001b[39margs, \u001b[38;5;241m*\u001b[39m\u001b[38;5;241m*\u001b[39mkwargs)\n",
            "File \u001b[1;32mc:\\Users\\user\\.conda\\envs\\lucidSE3_gpu\\lib\\site-packages\\torch\\nn\\modules\\module.py:1747\u001b[0m, in \u001b[0;36mModule._call_impl\u001b[1;34m(self, *args, **kwargs)\u001b[0m\n\u001b[0;32m   1742\u001b[0m \u001b[38;5;66;03m# If we don't have any hooks, we want to skip the rest of the logic in\u001b[39;00m\n\u001b[0;32m   1743\u001b[0m \u001b[38;5;66;03m# this function, and just call forward.\u001b[39;00m\n\u001b[0;32m   1744\u001b[0m \u001b[38;5;28;01mif\u001b[39;00m \u001b[38;5;129;01mnot\u001b[39;00m (\u001b[38;5;28mself\u001b[39m\u001b[38;5;241m.\u001b[39m_backward_hooks \u001b[38;5;129;01mor\u001b[39;00m \u001b[38;5;28mself\u001b[39m\u001b[38;5;241m.\u001b[39m_backward_pre_hooks \u001b[38;5;129;01mor\u001b[39;00m \u001b[38;5;28mself\u001b[39m\u001b[38;5;241m.\u001b[39m_forward_hooks \u001b[38;5;129;01mor\u001b[39;00m \u001b[38;5;28mself\u001b[39m\u001b[38;5;241m.\u001b[39m_forward_pre_hooks\n\u001b[0;32m   1745\u001b[0m         \u001b[38;5;129;01mor\u001b[39;00m _global_backward_pre_hooks \u001b[38;5;129;01mor\u001b[39;00m _global_backward_hooks\n\u001b[0;32m   1746\u001b[0m         \u001b[38;5;129;01mor\u001b[39;00m _global_forward_hooks \u001b[38;5;129;01mor\u001b[39;00m _global_forward_pre_hooks):\n\u001b[1;32m-> 1747\u001b[0m     \u001b[38;5;28;01mreturn\u001b[39;00m forward_call(\u001b[38;5;241m*\u001b[39margs, \u001b[38;5;241m*\u001b[39m\u001b[38;5;241m*\u001b[39mkwargs)\n\u001b[0;32m   1749\u001b[0m result \u001b[38;5;241m=\u001b[39m \u001b[38;5;28;01mNone\u001b[39;00m\n\u001b[0;32m   1750\u001b[0m called_always_called_hooks \u001b[38;5;241m=\u001b[39m \u001b[38;5;28mset\u001b[39m()\n",
            "File \u001b[1;32mc:\\Users\\user\\.conda\\envs\\lucidSE3_gpu\\lib\\site-packages\\se3_transformer_pytorch\\se3_transformer_pytorch.py:1279\u001b[0m, in \u001b[0;36mSE3Transformer.forward\u001b[1;34m(self, feats, coors, mask, adj_mat, edges, return_type, return_pooled, neighbor_mask, global_feats)\u001b[0m\n\u001b[0;32m   1277\u001b[0m neighbors \u001b[38;5;241m=\u001b[39m \u001b[38;5;28mint\u001b[39m(\u001b[38;5;28mmin\u001b[39m(neighbors, n \u001b[38;5;241m-\u001b[39m \u001b[38;5;241m1\u001b[39m))\n\u001b[0;32m   1278\u001b[0m total_neighbors \u001b[38;5;241m=\u001b[39m \u001b[38;5;28mint\u001b[39m(neighbors \u001b[38;5;241m+\u001b[39m num_sparse_neighbors)\n\u001b[1;32m-> 1279\u001b[0m \u001b[38;5;28;01massert\u001b[39;00m total_neighbors \u001b[38;5;241m>\u001b[39m \u001b[38;5;241m0\u001b[39m, \u001b[38;5;124m'\u001b[39m\u001b[38;5;124myou must be fetching at least 1 neighbor\u001b[39m\u001b[38;5;124m'\u001b[39m\n\u001b[0;32m   1281\u001b[0m total_neighbors \u001b[38;5;241m=\u001b[39m \u001b[38;5;28mint\u001b[39m(\u001b[38;5;28mmin\u001b[39m(total_neighbors, n \u001b[38;5;241m-\u001b[39m \u001b[38;5;241m1\u001b[39m)) \u001b[38;5;66;03m# make sure total neighbors does not exceed the length of the sequence itself\u001b[39;00m\n\u001b[0;32m   1283\u001b[0m dist_values, nearest_indices \u001b[38;5;241m=\u001b[39m modified_rel_dist\u001b[38;5;241m.\u001b[39mtopk(total_neighbors, dim \u001b[38;5;241m=\u001b[39m \u001b[38;5;241m-\u001b[39m\u001b[38;5;241m1\u001b[39m, largest \u001b[38;5;241m=\u001b[39m \u001b[38;5;28;01mFalse\u001b[39;00m)\n",
            "\u001b[1;31mAssertionError\u001b[0m: you must be fetching at least 1 neighbor"
          ]
        }
      ],
      "source": [
        "# Training loop\n",
        "for epoch in range(num_epochs):\n",
        "    model.train()  # Set the model to training mode\n",
        "    total_loss = 0\n",
        "\n",
        "    for i in tqdm(range(len(train_features))):\n",
        "        # Prepare input data\n",
        "        feats = torch.tensor(train_features[i]).unsqueeze(0).to(device)  # Shape: (1, num_points, feature_dim)\n",
        "        coors = torch.tensor(train_coords[i], dtype=torch.float32).unsqueeze(0).to(device)  # Shape: (1, num_points, 3)\n",
        "        mask = torch.ones(feats.shape[0], feats.shape[1]).bool().to(device)  # Shape: (1, num_points)\n",
        "\n",
        "        # Ensure the coordinates tensor has the correct shape\n",
        "        if coors.dim() == 2:\n",
        "            coors = coors.unsqueeze(0)  # Shape: (1, num_points, 3)\n",
        "\n",
        "        # Forward pass\n",
        "        outputs = model(feats, coors, mask)  # Shape: (1, num_points, feature_dim)\n",
        "\n",
        "        # Calculate loss\n",
        "        label = torch.tensor(train_labels[i]).unsqueeze(0).to(device)  # Shape: (1,)\n",
        "        loss = criterion(outputs.view(-1, outputs.size(-1)), label.view(-1))\n",
        "        total_loss += loss.item()\n",
        "\n",
        "        # Backward pass and optimization\n",
        "        optimizer.zero_grad()\n",
        "        loss.backward()\n",
        "        optimizer.step()\n",
        "\n",
        "    print(f'Epoch [{epoch+1}/{num_epochs}], Loss: {total_loss/len(train_features):.4f}')\n"
      ]
    },
    {
      "cell_type": "code",
      "execution_count": null,
      "metadata": {
        "id": "dJi8Jaf6nekz"
      },
      "outputs": [],
      "source": []
    }
  ],
  "metadata": {
    "accelerator": "GPU",
    "colab": {
      "gpuType": "T4",
      "provenance": []
    },
    "kernelspec": {
      "display_name": "Python 3",
      "name": "python3"
    },
    "language_info": {
      "codemirror_mode": {
        "name": "ipython",
        "version": 3
      },
      "file_extension": ".py",
      "mimetype": "text/x-python",
      "name": "python",
      "nbconvert_exporter": "python",
      "pygments_lexer": "ipython3",
      "version": "3.10.16"
    }
  },
  "nbformat": 4,
  "nbformat_minor": 0
}
